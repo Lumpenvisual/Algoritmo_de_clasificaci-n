{
  "nbformat": 4,
  "nbformat_minor": 0,
  "metadata": {
    "colab": {
      "provenance": [],
      "authorship_tag": "ABX9TyOF/wcp7cjaXqwLa6afiPvu",
      "include_colab_link": true
    },
    "kernelspec": {
      "name": "python3",
      "display_name": "Python 3"
    },
    "language_info": {
      "name": "python"
    }
  },
  "cells": [
    {
      "cell_type": "markdown",
      "metadata": {
        "id": "view-in-github",
        "colab_type": "text"
      },
      "source": [
        "<a href=\"https://colab.research.google.com/github/Lumpenvisual/Algoritmo_de_clasificaci-n/blob/main/Tuya_Agencia_de_IA_autonoma_pynb.ipynb\" target=\"_parent\"><img src=\"https://colab.research.google.com/assets/colab-badge.svg\" alt=\"Open In Colab\"/></a>"
      ]
    },
    {
      "cell_type": "code",
      "execution_count": 2,
      "metadata": {
        "colab": {
          "base_uri": "https://localhost:8080/"
        },
        "id": "sN0LXom6tecU",
        "outputId": "f5c34d7b-2c5a-4155-cfec-cf9f0bb2b614"
      },
      "outputs": [
        {
          "output_type": "stream",
          "name": "stdout",
          "text": [
            "🚀 Bienvenido a Tuya AgencIA – Agencia de IA Autónoma\n",
            "Vamos a analizar el canal de @turbofausto usando solo datos públicos de YouTube.\n",
            "\n"
          ]
        }
      ],
      "source": [
        "# 🧠 TUYA AGENCIA – Agencia de IA Autónoma para Creadores de Contenido\n",
        "# 🎯 Canal piloto: @turbofausto\n",
        "# 📌 Ejecuta paso a paso en Google Colab\n",
        "\n",
        "print(\"🚀 Bienvenido a Tuya AgencIA – Agencia de IA Autónoma\")\n",
        "print(\"Vamos a analizar el canal de @turbofausto usando solo datos públicos de YouTube.\\n\")"
      ]
    },
    {
      "cell_type": "markdown",
      "source": [
        "##1. Instalación de dependencias"
      ],
      "metadata": {
        "id": "FmMOoV-vtnwf"
      }
    },
    {
      "cell_type": "code",
      "source": [
        "# Paso 1: Instalar librerías necesarias\n",
        "print(\"🔧 Instalando dependencias...\")\n",
        "\n",
        "!pip install -q pytube pandas numpy matplotlib seaborn openai python-dotenv transformers torch gradio\n",
        "\n",
        "!pip install -q scikit-learn          # Para modelos tradicionales (regresión, clustering)\n",
        "!pip install -q torch torchvision     # PyTorch (deep learning)\n",
        "!pip install -q tensorflow            # TensorFlow (redes neuronales, modelos predictivos)\n",
        "!pip install -q transformers          # Hugging Face Transformers\n",
        "!pip install -q datasets              # Hugging Face Datasets\n",
        "\n",
        "print(\"✅ Instalación completada.\")"
      ],
      "metadata": {
        "colab": {
          "base_uri": "https://localhost:8080/"
        },
        "id": "JjygWiVwtsiv",
        "outputId": "57d4d757-83f5-4612-9db6-f3ee71173808"
      },
      "execution_count": 3,
      "outputs": [
        {
          "output_type": "stream",
          "name": "stdout",
          "text": [
            "🔧 Instalando dependencias...\n",
            "\u001b[2K   \u001b[90m━━━━━━━━━━━━━━━━━━━━━━━━━━━━━━━━━━━━━━━━\u001b[0m \u001b[32m57.6/57.6 kB\u001b[0m \u001b[31m2.6 MB/s\u001b[0m eta \u001b[36m0:00:00\u001b[0m\n",
            "\u001b[?25h✅ Instalación completada.\n"
          ]
        }
      ]
    },
    {
      "cell_type": "markdown",
      "source": [
        "##2. Importar librerías"
      ],
      "metadata": {
        "id": "RS7rmMlXt-k2"
      }
    },
    {
      "cell_type": "code",
      "source": [
        "# Paso 2: Importar librerías\n",
        "import pandas as pd\n",
        "import numpy as np\n",
        "import matplotlib.pyplot as plt\n",
        "import seaborn as sns\n",
        "import sklearn\n",
        "import torch\n",
        "import tensorflow as tf\n",
        "import transformers\n",
        "from pytube import Playlist\n",
        "import os\n",
        "import time\n",
        "from datetime import datetime\n",
        "from dotenv import load_dotenv\n",
        "\n",
        "\n",
        "# Configurar estilo de gráficos\n",
        "plt.style.use('seaborn-v0_8')\n",
        "sns.set_palette(\"husl\")\n",
        "\n",
        "print(\"✅ Librerías importadas.\")"
      ],
      "metadata": {
        "colab": {
          "base_uri": "https://localhost:8080/"
        },
        "id": "5MlxLWGNuCKn",
        "outputId": "c6635ff2-85a7-4a82-caa2-f079528ad9e1"
      },
      "execution_count": 4,
      "outputs": [
        {
          "output_type": "stream",
          "name": "stdout",
          "text": [
            "✅ Librerías importadas.\n"
          ]
        }
      ]
    },
    {
      "cell_type": "markdown",
      "source": [
        "##3. Extraer datos públicos de Youtube"
      ],
      "metadata": {
        "id": "OrRNYxmmuZ_4"
      }
    },
    {
      "cell_type": "code",
      "source": [
        "# Paso 3: Extraer videos del canal de @turbofausto\n",
        "print(\"🔍 Extrayendo datos públicos del canal de @turbofausto...\")\n",
        "\n",
        "from sklearn.model_selection import train_test_split\n",
        "from sklearn.ensemble import RandomForestClassifier\n",
        "from sklearn.metrics import accuracy_score\n",
        "\n",
        "# URL de la lista de reproducción \"Videos más recientes\"\n",
        "# ⚠️ Reemplaza con la URL real de la playlist (puedes copiarla de YouTube)\n",
        "PLAYLIST_URL = \"https://www.youtube.com/@turbofausto\"  # Verifica esta URL\n",
        "\n",
        "try:\n",
        "    playlist = Playlist(PLAYLIST_URL)\n",
        "    datos = []\n",
        "\n",
        "    print(f\"📡 Obteniendo {len(playlist.video_urls)} videos...\")\n",
        "\n",
        "    for i, video_url in enumerate(playlist.video_urls[:30]):  # Máximo 30 para no saturar\n",
        "        try:\n",
        "            video = playlist[i]\n",
        "            titulo = video.title\n",
        "            url = video.watch_url\n",
        "            publish_date = video.publish_date\n",
        "            views = video.views\n",
        "            duration = video.length  # en segundos\n",
        "\n",
        "            datos.append({\n",
        "                \"titulo\": titulo,\n",
        "                \"url\": url,\n",
        "                \"fecha\": publish_date.strftime(\"%Y-%m-%d\") if publish_date else \"N/A\",\n",
        "                \"vistas\": views,\n",
        "                \"duracion_seg\": duration,\n",
        "                \"duracion_min\": round(duration / 60, 1)\n",
        "            })\n",
        "            time.sleep(1)  # Etiqueta de respeto\n",
        "        except Exception as e:\n",
        "            print(f\"⚠️ Error en video {i+1}: {e}\")\n",
        "            continue\n",
        "\n",
        "    df = pd.DataFrame(datos)\n",
        "    df.to_csv(\"turbofausto_videos.csv\", index=False)\n",
        "    print(f\"✅ {len(df)} videos extraídos y guardados en 'turbofausto_videos.csv'\")\n",
        "    print(df.head())\n",
        "\n",
        "except Exception as e:\n",
        "    print(f\"❌ Error al extraer datos: {e}\")\n",
        "    print(\"💡 Asegúrate de que la URL de la playlist sea correcta.\")"
      ],
      "metadata": {
        "colab": {
          "base_uri": "https://localhost:8080/"
        },
        "id": "HlcAlcPuue__",
        "outputId": "aa493047-81a0-448e-969b-ceb43a4b4a17"
      },
      "execution_count": 6,
      "outputs": [
        {
          "output_type": "stream",
          "name": "stdout",
          "text": [
            "🔍 Extrayendo datos públicos del canal de @turbofausto...\n",
            "❌ Error al extraer datos: 'list'\n",
            "💡 Asegúrate de que la URL de la playlist sea correcta.\n"
          ]
        }
      ]
    },
    {
      "cell_type": "markdown",
      "source": [
        "##4. Análisis de datos y visualización"
      ],
      "metadata": {
        "id": "xxkb5BF0usQw"
      }
    },
    {
      "cell_type": "code",
      "source": [
        "# Paso 4: Análisis y visualización\n",
        "print(\"\\n📊 Analizando el rendimiento del canal...\")\n",
        "\n",
        "# Create a sample DataFrame for demonstration purposes\n",
        "data = {'titulo': [f'Video {i}' for i in range(20)],\n",
        "        'url': [f'http://youtube.com/watch?v={i}' for i in range(20)],\n",
        "        'fecha': pd.to_datetime(pd.date_range(start='2023-01-01', periods=20, freq='M').strftime('%Y-%m-%d')),\n",
        "        'vistas': np.random.randint(1000, 100000, 20),\n",
        "        'duracion_seg': np.random.randint(60, 600, 20),\n",
        "        'duracion_min': np.round(np.random.randint(60, 600, 20) / 60, 1)}\n",
        "df = pd.DataFrame(data)\n",
        "\n",
        "\n",
        "# Convertir fecha a datetime\n",
        "df['fecha'] = pd.to_datetime(df['fecha'], errors='coerce')\n",
        "\n",
        "# Gráficos\n",
        "fig, axs = plt.subplots(2, 2, figsize=(14, 10))\n",
        "\n",
        "# 1. Distribución de vistas\n",
        "axs[0, 0].hist(df['vistas'], bins=15, color='skyblue', edgecolor='black')\n",
        "axs[0, 0].set_title('Distribución de Vistas')\n",
        "axs[0, 0].set_xlabel('Vistas')\n",
        "axs[0, 0].set_ylabel('Frecuencia')\n",
        "\n",
        "# 2. Vistas vs Duración\n",
        "axs[0, 1].scatter(df['duracion_min'], df['vistas'], alpha=0.7, color='green')\n",
        "axs[0, 1].set_title('Vistas vs Duración (min)')\n",
        "axs[0, 1].set_xlabel('Duración (min)')\n",
        "axs[0, 1].set_ylabel('Vistas')\n",
        "\n",
        "# 3. Top 10 videos por vistas\n",
        "top10 = df.nlargest(10, 'vistas')\n",
        "axs[1, 0].barh(top10['titulo'], top10['vistas'], color='coral')\n",
        "axs[1, 0].set_title('Top 10 Videos por Vistas')\n",
        "axs[1, 0].set_xlabel('Vistas')\n",
        "\n",
        "# 4. Tendencia de publicaciones por mes\n",
        "df['mes'] = df['fecha'].dt.to_period('M')\n",
        "publicaciones_por_mes = df['mes'].value_counts().sort_index()\n",
        "axs[1, 1].plot(publicaciones_por_mes.index.astype(str), publicaciones_por_mes.values, marker='o', color='purple')\n",
        "axs[1, 1].set_title('Publicaciones por Mes')\n",
        "axs[1, 1].set_xlabel('Mes')\n",
        "axs[1, 1].set_ylabel('Cantidad')\n",
        "plt.xticks(rotation=45)\n",
        "\n",
        "plt.tight_layout()\n",
        "plt.show()"
      ],
      "metadata": {
        "colab": {
          "base_uri": "https://localhost:8080/",
          "height": 1000
        },
        "id": "ML5nbuwuulin",
        "outputId": "596d8a8b-4364-47bd-9e1c-b256d6800ac2"
      },
      "execution_count": null,
      "outputs": [
        {
          "output_type": "stream",
          "name": "stdout",
          "text": [
            "\n",
            "📊 Analizando el rendimiento del canal...\n"
          ]
        },
        {
          "output_type": "stream",
          "name": "stderr",
          "text": [
            "/tmp/ipython-input-1955515417.py:7: FutureWarning: 'M' is deprecated and will be removed in a future version, please use 'ME' instead.\n",
            "  'fecha': pd.to_datetime(pd.date_range(start='2023-01-01', periods=20, freq='M').strftime('%Y-%m-%d')),\n"
          ]
        },
        {
          "output_type": "display_data",
          "data": {
            "text/plain": [
              "<Figure size 1400x1000 with 4 Axes>"
            ],
            "image/png": "[encoded data removed]"
          },
          "metadata": {}
        }
      ]
    },
    {
      "cell_type": "markdown",
      "source": [
        "\n",
        "##5. Contexto del creador (RAG Básico)"
      ],
      "metadata": {
        "id": "YjtGnkMFvRAY"
      }
    },
    {
      "cell_type": "code",
      "source": [
        "# Paso 5: Contexto del creador (Tuya AgencIA - Cerebro IA)\n",
        "print(\"\\n🧠 Cargando contexto de @turbofausto...\")\n",
        "\n",
        "contexto_turbofausto = {\n",
        "    \"nombre\": \"Fausto Murillo\",\n",
        "    \"usuario\": \"@turbofausto\",\n",
        "    \"nicho\": \"Fitness funcional y entrenamiento en casa\",\n",
        "    \"tono\": \"Directo, motivador, sin filtros. Frases como 'Sin cuentos', 'Esto es real', 'No más excusas'.\",\n",
        "    \"audiencia\": \"Hombres 18-35 que quieren mejorar su físico sin gimnasio.\",\n",
        "    \"objetivos\": \"Aumentar suscriptores, escalar contenido en shorts, promocionar su app de entrenamiento.\",\n",
        "    \"ctas\": [\"Suscríbete\", \"Activa la campanita\", \"Sígueme en Instagram\", \"Descarga mi app\"]\n",
        "}\n",
        "\n",
        "print(f\"✅ Contexto cargado: {contexto_turbofausto['nicho']}\")"
      ],
      "metadata": {
        "colab": {
          "base_uri": "https://localhost:8080/"
        },
        "id": "xA31fxOqvQAR",
        "outputId": "fe2a2d2c-d5e0-4df6-85f3-5d3aef76324b"
      },
      "execution_count": null,
      "outputs": [
        {
          "output_type": "stream",
          "name": "stdout",
          "text": [
            "\n",
            "🧠 Cargando contexto de @turbofausto...\n",
            "✅ Contexto cargado: Fitness funcional y entrenamiento en casa\n"
          ]
        }
      ]
    },
    {
      "cell_type": "markdown",
      "source": [
        "##6. Predicción de Impacto con Hugging Face\n",
        "\n",
        "\n",
        "\n"
      ],
      "metadata": {
        "id": "paHnDi6jvbgP"
      }
    },
    {
      "cell_type": "code",
      "source": [
        "# Paso 6: Predicción de impacto con Hugging Face\n",
        "print(\"\\n🤖 Prediciendo impacto de títulos con Hugging Face...\")\n",
        "\n",
        "from transformers import pipeline\n",
        "\n",
        "# Usamos un modelo de sentimiento para predecir engagement\n",
        "classifier = pipeline(\n",
        "    \"sentiment-analysis\",\n",
        "    model=\"cardiffnlp/twitter-roberta-base-sentiment-latest\",\n",
        "    return_all_scores=True\n",
        ")\n",
        "\n",
        "def predecir_impacto(titulo):\n",
        "    resultados = classifier(titulo)\n",
        "    # Find the score for the positive label ('LABEL_2')\n",
        "    positivo_score = 0\n",
        "    for r in resultados[0]: # The classifier returns a list containing one list of dictionaries\n",
        "        if r['label'] == 'LABEL_2':\n",
        "            positivo_score = r['score']\n",
        "            break\n",
        "    return \"ALTO\" if positivo_score > 0.7 else \"BAJO\", positivo_score\n",
        "\n",
        "# Ejemplo con un nuevo título\n",
        "titulo_propuesto = \"ESTO CAMBIA TODO: RUTINA DE 5 MINUTOS EN CASA\"\n",
        "prediccion, confianza = predecir_impacto(titulo_propuesto)\n",
        "\n",
        "print(f\"📌 Título: {titulo_propuesto}\")\n",
        "print(f\"🎯 Predicción de impacto: {prediccion} (Confianza: {confianza:.2f})\")"
      ],
      "metadata": {
        "colab": {
          "base_uri": "https://localhost:8080/"
        },
        "id": "_6QO9ZfWvfuH",
        "outputId": "25fda594-28cf-4dbc-e04e-9adbb6dd184a"
      },
      "execution_count": null,
      "outputs": [
        {
          "output_type": "stream",
          "name": "stdout",
          "text": [
            "\n",
            "🤖 Prediciendo impacto de títulos con Hugging Face...\n"
          ]
        },
        {
          "output_type": "stream",
          "name": "stderr",
          "text": [
            "Some weights of the model checkpoint at cardiffnlp/twitter-roberta-base-sentiment-latest were not used when initializing RobertaForSequenceClassification: ['roberta.pooler.dense.bias', 'roberta.pooler.dense.weight']\n",
            "- This IS expected if you are initializing RobertaForSequenceClassification from the checkpoint of a model trained on another task or with another architecture (e.g. initializing a BertForSequenceClassification model from a BertForPreTraining model).\n",
            "- This IS NOT expected if you are initializing RobertaForSequenceClassification from the checkpoint of a model that you expect to be exactly identical (initializing a BertForSequenceClassification model from a BertForSequenceClassification model).\n",
            "Device set to use cpu\n",
            "/usr/local/lib/python3.12/dist-packages/transformers/pipelines/text_classification.py:111: UserWarning: `return_all_scores` is now deprecated,  if want a similar functionality use `top_k=None` instead of `return_all_scores=True` or `top_k=1` instead of `return_all_scores=False`.\n",
            "  warnings.warn(\n"
          ]
        },
        {
          "output_type": "stream",
          "name": "stdout",
          "text": [
            "📌 Título: ESTO CAMBIA TODO: RUTINA DE 5 MINUTOS EN CASA\n",
            "🎯 Predicción de impacto: BAJO (Confianza: 0.00)\n"
          ]
        }
      ]
    },
    {
      "cell_type": "markdown",
      "source": [
        "##7. Generar Ideas de Contenido con IA (OpenAI)"
      ],
      "metadata": {
        "id": "lYik9QZMvzRp"
      }
    },
    {
      "cell_type": "code",
      "source": [
        "# Paso 7: Generar ideas con IA (OpenAI)\n",
        "print(\"\\n💡 Generando ideas de contenido con IA...\")\n",
        "\n",
        "# ⚠️ Necesitas tu API Key de OpenAI\n",
        "from google.colab import userdata\n",
        "import openai\n",
        "\n",
        "try:\n",
        "    # Obtiene tu API key desde Google Colab (Secrets)\n",
        "    openai.api_key = userdata.get('OPENAI_API_KEY')\n",
        "    client = openai.OpenAI(api_key=openai.api_key)\n",
        "\n",
        "    prompt = f\"\"\"\n",
        "    Eres Tuya AgencIA, el cerebro estratégico de {contexto_turbofausto['nombre']}.\n",
        "    Crea una idea de short de YouTube (60 segundos) sobre: 'entrenamiento en casa sin equipo'.\n",
        "\n",
        "    Formato:\n",
        "    - Título (impactante)\n",
        "    - Hook (primeros 3 segundos)\n",
        "    - Desarrollo (45 segundos)\n",
        "    - CTA final ({contexto_turbofausto['ctas'][0]})\n",
        "\n",
        "    Tono: {contexto_turbofausto['tono']}\n",
        "    \"\"\"\n",
        "\n",
        "    response = client.chat.completions.create(\n",
        "        model=\"gpt-3.5-turbo\",\n",
        "        messages=[{\"role\": \"user\", \"content\": prompt}],\n",
        "        max_tokens=300\n",
        "    )\n",
        "\n",
        "    idea = response.choices[0].message.content.strip()\n",
        "    print(\"🎯 Idea generada por IA:\")\n",
        "    print(idea)\n",
        "\n",
        "except Exception as e:\n",
        "    print(f\"❌ Error con OpenAI: {e}\")\n",
        "    print(\"💡 Asegúrate de agregar tu API Key en 'Secrets' como 'OPENAI_API_KEY'\")"
      ],
      "metadata": {
        "colab": {
          "base_uri": "https://localhost:8080/"
        },
        "id": "QLrnKToswBwB",
        "outputId": "d963f755-9816-4e0c-80a5-cbf8f3a7b4c6"
      },
      "execution_count": null,
      "outputs": [
        {
          "output_type": "stream",
          "name": "stdout",
          "text": [
            "\n",
            "💡 Generando ideas de contenido con IA...\n",
            "❌ Error con OpenAI: Secret OPENAI_API_KEY does not exist.\n",
            "💡 Asegúrate de agregar tu API Key en 'Secrets' como 'OPENAI_API_KEY'\n"
          ]
        }
      ]
    },
    {
      "cell_type": "markdown",
      "source": [
        "##8. Guardar Resultados y Conclusión"
      ],
      "metadata": {
        "id": "KFKaVKQ_wJrg"
      }
    },
    {
      "cell_type": "code",
      "source": [
        "# Paso 8: Guardar resultados\n",
        "print(\"\\n Guardando resultados...\")\n",
        "\n",
        "# Añadir idea al CSV\n",
        "df_resultados = df.copy()\n",
        "df_resultados['idea_generada'] = idea.split('\\n')[0]  # Solo el título\n",
        "df_resultados.to_csv(\"turbofausto_resultados.csv\", index=False)\n",
        "\n",
        "# Descargar CSV\n",
        "from google.colab import files\n",
        "files.download(\"turbofausto_resultados.csv\")\n",
        "\n",
        "print(\"✅ Archivo descargado: turbofausto_resultados.csv\")\n",
        "print(\"🎉 ¡Tuya AgencIA ha completado el análisis estratégico!\")\n",
        "print(\"💡 Próximo paso: Automatiza este flujo con Make/Zapier y conviértelo en SaaS.\")"
      ],
      "metadata": {
        "colab": {
          "base_uri": "https://localhost:8080/",
          "height": 255
        },
        "id": "bJw0mGumwNHn",
        "outputId": "ef5f0395-1a78-4981-caa7-f2d218dd2643"
      },
      "execution_count": null,
      "outputs": [
        {
          "output_type": "stream",
          "name": "stdout",
          "text": [
            "\n",
            " Guardando resultados...\n"
          ]
        },
        {
          "output_type": "error",
          "ename": "NameError",
          "evalue": "name 'idea' is not defined",
          "traceback": [
            "\u001b[0;31m---------------------------------------------------------------------------\u001b[0m",
            "\u001b[0;31mNameError\u001b[0m                                 Traceback (most recent call last)",
            "\u001b[0;32m/tmp/ipython-input-3618804640.py\u001b[0m in \u001b[0;36m<cell line: 0>\u001b[0;34m()\u001b[0m\n\u001b[1;32m      4\u001b[0m \u001b[0;31m# Añadir idea al CSV\u001b[0m\u001b[0;34m\u001b[0m\u001b[0;34m\u001b[0m\u001b[0m\n\u001b[1;32m      5\u001b[0m \u001b[0mdf_resultados\u001b[0m \u001b[0;34m=\u001b[0m \u001b[0mdf\u001b[0m\u001b[0;34m.\u001b[0m\u001b[0mcopy\u001b[0m\u001b[0;34m(\u001b[0m\u001b[0;34m)\u001b[0m\u001b[0;34m\u001b[0m\u001b[0;34m\u001b[0m\u001b[0m\n\u001b[0;32m----> 6\u001b[0;31m \u001b[0mdf_resultados\u001b[0m\u001b[0;34m[\u001b[0m\u001b[0;34m'idea_generada'\u001b[0m\u001b[0;34m]\u001b[0m \u001b[0;34m=\u001b[0m \u001b[0midea\u001b[0m\u001b[0;34m.\u001b[0m\u001b[0msplit\u001b[0m\u001b[0;34m(\u001b[0m\u001b[0;34m'\\n'\u001b[0m\u001b[0;34m)\u001b[0m\u001b[0;34m[\u001b[0m\u001b[0;36m0\u001b[0m\u001b[0;34m]\u001b[0m  \u001b[0;31m# Solo el título\u001b[0m\u001b[0;34m\u001b[0m\u001b[0;34m\u001b[0m\u001b[0m\n\u001b[0m\u001b[1;32m      7\u001b[0m \u001b[0mdf_resultados\u001b[0m\u001b[0;34m.\u001b[0m\u001b[0mto_csv\u001b[0m\u001b[0;34m(\u001b[0m\u001b[0;34m\"turbofausto_resultados.csv\"\u001b[0m\u001b[0;34m,\u001b[0m \u001b[0mindex\u001b[0m\u001b[0;34m=\u001b[0m\u001b[0;32mFalse\u001b[0m\u001b[0;34m)\u001b[0m\u001b[0;34m\u001b[0m\u001b[0;34m\u001b[0m\u001b[0m\n\u001b[1;32m      8\u001b[0m \u001b[0;34m\u001b[0m\u001b[0m\n",
            "\u001b[0;31mNameError\u001b[0m: name 'idea' is not defined"
          ]
        }
      ]
    },
    {
      "cell_type": "markdown",
      "source": [
        "\n",
        "\n",
        "\n",
        "##8.1 Integración en Google Colab (Código Ejecutable)"
      ],
      "metadata": {
        "id": "1CfwqOQDynXK"
      }
    },
    {
      "cell_type": "code",
      "source": [
        "print(\"🧠 Analizando el impacto emocional de los títulos con Hugging Face...\")\n",
        "\n",
        "from transformers import AutoModelForSequenceClassification, AutoTokenizer, pipeline\n",
        "from google.colab import files\n",
        "import pandas as pd\n",
        "\n",
        "# Cargar modelo y tokenizador\n",
        "modelo_sentimiento = \"cardiffnlp/twitter-roberta-base-sentiment-latest\"\n",
        "tokenizer = AutoTokenizer.from_pretrained(modelo_sentimiento)\n",
        "model = AutoModelForSequenceClassification.from_pretrained(modelo_sentimiento)\n",
        "\n",
        "# Crear pipeline\n",
        "classifier = pipeline(\n",
        "    \"sentiment-analysis\",\n",
        "    model=model,\n",
        "    tokenizer=tokenizer,\n",
        "    return_all_scores=True\n",
        ")\n",
        "\n",
        "# Función para analizar un título\n",
        "def analizar_impacto(titulo):\n",
        "    resultados = classifier(titulo)\n",
        "    score_positivo = 0\n",
        "    # Iterate through the list of dictionaries to find the score for 'LABEL_2'\n",
        "    for r in resultados[0]:\n",
        "        if r['label'] == 'LABEL_2':\n",
        "            score_positivo = r['score']\n",
        "            break\n",
        "    return \"ALTO\" if score_positivo > 0.7 else \"BAJO\", score_positivo\n",
        "\n",
        "# Analizar títulos del canal\n",
        "print(\"\\n📊 Análisis de impacto emocional de los títulos:\")\n",
        "impactos = []\n",
        "for titulo in df['titulo'][:10]:  # Solo los primeros 10\n",
        "    prediccion, confianza = analizar_impacto(titulo)\n",
        "    impactos.append({\"titulo\": titulo, \"impacto\": prediccion, \"confianza\": confianza})\n",
        "    print(f\"  {prediccion} ({confianza:.2f}): {titulo[:60]}...\")\n",
        "\n",
        "# Guardar resultados\n",
        "df_impacto = pd.DataFrame(impactos)\n",
        "df_impacto.to_csv(\"analisis_impacto_titulos.csv\", index=False)\n",
        "files.download(\"analisis_impacto_titulos.csv\")"
      ],
      "metadata": {
        "colab": {
          "base_uri": "https://localhost:8080/",
          "height": 382
        },
        "id": "aytcPLhyyu0a",
        "outputId": "bc11b698-e957-492b-cf13-7197940398a0"
      },
      "execution_count": null,
      "outputs": [
        {
          "output_type": "stream",
          "name": "stdout",
          "text": [
            "🧠 Analizando el impacto emocional de los títulos con Hugging Face...\n"
          ]
        },
        {
          "output_type": "stream",
          "name": "stderr",
          "text": [
            "Some weights of the model checkpoint at cardiffnlp/twitter-roberta-base-sentiment-latest were not used when initializing RobertaForSequenceClassification: ['roberta.pooler.dense.bias', 'roberta.pooler.dense.weight']\n",
            "- This IS expected if you are initializing RobertaForSequenceClassification from the checkpoint of a model trained on another task or with another architecture (e.g. initializing a BertForSequenceClassification model from a BertForPreTraining model).\n",
            "- This IS NOT expected if you are initializing RobertaForSequenceClassification from the checkpoint of a model that you expect to be exactly identical (initializing a BertForSequenceClassification model from a BertForSequenceClassification model).\n",
            "Device set to use cpu\n",
            "/usr/local/lib/python3.12/dist-packages/transformers/pipelines/text_classification.py:111: UserWarning: `return_all_scores` is now deprecated,  if want a similar functionality use `top_k=None` instead of `return_all_scores=True` or `top_k=1` instead of `return_all_scores=False`.\n",
            "  warnings.warn(\n"
          ]
        },
        {
          "output_type": "stream",
          "name": "stdout",
          "text": [
            "\n",
            "📊 Análisis de impacto emocional de los títulos:\n",
            "  BAJO (0.00): Video 0...\n",
            "  BAJO (0.00): Video 1...\n",
            "  BAJO (0.00): Video 2...\n",
            "  BAJO (0.00): Video 3...\n",
            "  BAJO (0.00): Video 4...\n",
            "  BAJO (0.00): Video 5...\n",
            "  BAJO (0.00): Video 6...\n",
            "  BAJO (0.00): Video 7...\n",
            "  BAJO (0.00): Video 8...\n",
            "  BAJO (0.00): Video 9...\n"
          ]
        },
        {
          "output_type": "display_data",
          "data": {
            "text/plain": [
              "<IPython.core.display.Javascript object>"
            ],
            "application/javascript": [
              "\n",
              "    async function download(id, filename, size) {\n",
              "      if (!google.colab.kernel.accessAllowed) {\n",
              "        return;\n",
              "      }\n",
              "      const div = document.createElement('div');\n",
              "      const label = document.createElement('label');\n",
              "      label.textContent = `Downloading \"${filename}\": `;\n",
              "      div.appendChild(label);\n",
              "      const progress = document.createElement('progress');\n",
              "      progress.max = size;\n",
              "      div.appendChild(progress);\n",
              "      document.body.appendChild(div);\n",
              "\n",
              "      const buffers = [];\n",
              "      let downloaded = 0;\n",
              "\n",
              "      const channel = await google.colab.kernel.comms.open(id);\n",
              "      // Send a message to notify the kernel that we're ready.\n",
              "      channel.send({})\n",
              "\n",
              "      for await (const message of channel.messages) {\n",
              "        // Send a message to notify the kernel that we're ready.\n",
              "        channel.send({})\n",
              "        if (message.buffers) {\n",
              "          for (const buffer of message.buffers) {\n",
              "            buffers.push(buffer);\n",
              "            downloaded += buffer.byteLength;\n",
              "            progress.value = downloaded;\n",
              "          }\n",
              "        }\n",
              "      }\n",
              "      const blob = new Blob(buffers, {type: 'application/binary'});\n",
              "      const a = document.createElement('a');\n",
              "      a.href = window.URL.createObjectURL(blob);\n",
              "      a.download = filename;\n",
              "      div.appendChild(a);\n",
              "      a.click();\n",
              "      div.remove();\n",
              "    }\n",
              "  "
            ]
          },
          "metadata": {}
        },
        {
          "output_type": "display_data",
          "data": {
            "text/plain": [
              "<IPython.core.display.Javascript object>"
            ],
            "application/javascript": [
              "download(\"download_20a0a89a-6b6b-4fa5-8739-68c7ad4785a1\", \"analisis_impacto_titulos.csv\", 175)"
            ]
          },
          "metadata": {}
        }
      ]
    }
  ]
}