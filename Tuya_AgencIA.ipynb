{
  "nbformat": 4,
  "nbformat_minor": 0,
  "metadata": {
    "colab": {
      "provenance": [],
      "authorship_tag": "ABX9TyM3/ouPuZR9go9SIq2LK0MH",
      "include_colab_link": true
    },
    "kernelspec": {
      "name": "python3",
      "display_name": "Python 3"
    },
    "language_info": {
      "name": "python"
    }
  },
  "cells": [
    {
      "cell_type": "markdown",
      "metadata": {
        "id": "view-in-github",
        "colab_type": "text"
      },
      "source": [
        "<a href=\"https://colab.research.google.com/github/Lumpenvisual/Algoritmo_de_clasificaci-n/blob/main/Tuya_AgencIA.ipynb\" target=\"_parent\"><img src=\"https://colab.research.google.com/assets/colab-badge.svg\" alt=\"Open In Colab\"/></a>"
      ]
    },
    {
      "cell_type": "code",
      "source": [
        "# 🧠 TUYA AGENCIA – Agencia de IA Autónoma para Creadores de Contenido\n",
        "# 🎯 Canal piloto: @turbofausto\n",
        "# 📌 Ejecuta paso a paso en Google Colab\n",
        "\n",
        "print(\"🚀 Bienvenido a Tuya AgencIA – Agencia de IA Autónoma\")\n",
        "print(\"Vamos a analizar el canal de @turbofausto usando solo datos públicos de YouTube.\\n\")"
      ],
      "metadata": {
        "id": "bIdXMltku6y7"
      },
      "execution_count": null,
      "outputs": []
    },
    {
      "cell_type": "markdown",
      "source": [
        "##1. Instalación de dependencias"
      ],
      "metadata": {
        "id": "_VysFfewu_N7"
      }
    },
    {
      "cell_type": "code",
      "source": [
        "# Paso 1: Instalar librerías necesarias\n",
        "print(\"🔧 Instalando dependencias...\")\n",
        "\n",
        "!pip install -q pytube pandas numpy matplotlib seaborn openai python-dotenv transformers torch gradio\n",
        "\n",
        "!pip install -q scikit-learn          # Para modelos tradicionales (regresión, clustering)\n",
        "!pip install -q torch torchvision     # PyTorch (deep learning)\n",
        "!pip install -q tensorflow            # TensorFlow (redes neuronales, modelos predictivos)\n",
        "!pip install google-api-python-client\n",
        "!pip install -q transformers          # Hugging Face Transformers\n",
        "!pip install -q datasets              # Hugging Face Datasets\n",
        "\n",
        "print(\"✅ Instalación completada.\")"
      ],
      "metadata": {
        "colab": {
          "base_uri": "https://localhost:8080/"
        },
        "id": "1cE9eaGDvAWj",
        "outputId": "40323fdd-03e7-4d1a-89fa-beb92d5b63fd"
      },
      "execution_count": 40,
      "outputs": [
        {
          "output_type": "stream",
          "name": "stdout",
          "text": [
            "🔧 Instalando dependencias...\n",
            "Requirement already satisfied: google-api-python-client in /usr/local/lib/python3.12/dist-packages (2.179.0)\n",
            "Requirement already satisfied: httplib2<1.0.0,>=0.19.0 in /usr/local/lib/python3.12/dist-packages (from google-api-python-client) (0.22.0)\n",
            "Requirement already satisfied: google-auth!=2.24.0,!=2.25.0,<3.0.0,>=1.32.0 in /usr/local/lib/python3.12/dist-packages (from google-api-python-client) (2.38.0)\n",
            "Requirement already satisfied: google-auth-httplib2<1.0.0,>=0.2.0 in /usr/local/lib/python3.12/dist-packages (from google-api-python-client) (0.2.0)\n",
            "Requirement already satisfied: google-api-core!=2.0.*,!=2.1.*,!=2.2.*,!=2.3.0,<3.0.0,>=1.31.5 in /usr/local/lib/python3.12/dist-packages (from google-api-python-client) (2.25.1)\n",
            "Requirement already satisfied: uritemplate<5,>=3.0.1 in /usr/local/lib/python3.12/dist-packages (from google-api-python-client) (4.2.0)\n",
            "Requirement already satisfied: googleapis-common-protos<2.0.0,>=1.56.2 in /usr/local/lib/python3.12/dist-packages (from google-api-core!=2.0.*,!=2.1.*,!=2.2.*,!=2.3.0,<3.0.0,>=1.31.5->google-api-python-client) (1.70.0)\n",
            "Requirement already satisfied: protobuf!=3.20.0,!=3.20.1,!=4.21.0,!=4.21.1,!=4.21.2,!=4.21.3,!=4.21.4,!=4.21.5,<7.0.0,>=3.19.5 in /usr/local/lib/python3.12/dist-packages (from google-api-core!=2.0.*,!=2.1.*,!=2.2.*,!=2.3.0,<3.0.0,>=1.31.5->google-api-python-client) (5.29.5)\n",
            "Requirement already satisfied: proto-plus<2.0.0,>=1.22.3 in /usr/local/lib/python3.12/dist-packages (from google-api-core!=2.0.*,!=2.1.*,!=2.2.*,!=2.3.0,<3.0.0,>=1.31.5->google-api-python-client) (1.26.1)\n",
            "Requirement already satisfied: requests<3.0.0,>=2.18.0 in /usr/local/lib/python3.12/dist-packages (from google-api-core!=2.0.*,!=2.1.*,!=2.2.*,!=2.3.0,<3.0.0,>=1.31.5->google-api-python-client) (2.32.4)\n",
            "Requirement already satisfied: cachetools<6.0,>=2.0.0 in /usr/local/lib/python3.12/dist-packages (from google-auth!=2.24.0,!=2.25.0,<3.0.0,>=1.32.0->google-api-python-client) (5.5.2)\n",
            "Requirement already satisfied: pyasn1-modules>=0.2.1 in /usr/local/lib/python3.12/dist-packages (from google-auth!=2.24.0,!=2.25.0,<3.0.0,>=1.32.0->google-api-python-client) (0.4.2)\n",
            "Requirement already satisfied: rsa<5,>=3.1.4 in /usr/local/lib/python3.12/dist-packages (from google-auth!=2.24.0,!=2.25.0,<3.0.0,>=1.32.0->google-api-python-client) (4.9.1)\n",
            "Requirement already satisfied: pyparsing!=3.0.0,!=3.0.1,!=3.0.2,!=3.0.3,<4,>=2.4.2 in /usr/local/lib/python3.12/dist-packages (from httplib2<1.0.0,>=0.19.0->google-api-python-client) (3.2.3)\n",
            "Requirement already satisfied: pyasn1<0.7.0,>=0.6.1 in /usr/local/lib/python3.12/dist-packages (from pyasn1-modules>=0.2.1->google-auth!=2.24.0,!=2.25.0,<3.0.0,>=1.32.0->google-api-python-client) (0.6.1)\n",
            "Requirement already satisfied: charset_normalizer<4,>=2 in /usr/local/lib/python3.12/dist-packages (from requests<3.0.0,>=2.18.0->google-api-core!=2.0.*,!=2.1.*,!=2.2.*,!=2.3.0,<3.0.0,>=1.31.5->google-api-python-client) (3.4.3)\n",
            "Requirement already satisfied: idna<4,>=2.5 in /usr/local/lib/python3.12/dist-packages (from requests<3.0.0,>=2.18.0->google-api-core!=2.0.*,!=2.1.*,!=2.2.*,!=2.3.0,<3.0.0,>=1.31.5->google-api-python-client) (3.10)\n",
            "Requirement already satisfied: urllib3<3,>=1.21.1 in /usr/local/lib/python3.12/dist-packages (from requests<3.0.0,>=2.18.0->google-api-core!=2.0.*,!=2.1.*,!=2.2.*,!=2.3.0,<3.0.0,>=1.31.5->google-api-python-client) (2.5.0)\n",
            "Requirement already satisfied: certifi>=2017.4.17 in /usr/local/lib/python3.12/dist-packages (from requests<3.0.0,>=2.18.0->google-api-core!=2.0.*,!=2.1.*,!=2.2.*,!=2.3.0,<3.0.0,>=1.31.5->google-api-python-client) (2025.8.3)\n",
            "✅ Instalación completada.\n"
          ]
        }
      ]
    },
    {
      "cell_type": "markdown",
      "source": [
        "##2. Importar librerías"
      ],
      "metadata": {
        "id": "5GBMrKT3vJRC"
      }
    },
    {
      "cell_type": "code",
      "source": [
        "# Paso 2: Importar librerías\n",
        "import pandas as pd\n",
        "import numpy as np\n",
        "import matplotlib.pyplot as plt\n",
        "import seaborn as sns\n",
        "import sklearn\n",
        "import torch\n",
        "import tensorflow as tf\n",
        "import transformers\n",
        "from pytube import Playlist\n",
        "import os\n",
        "import time\n",
        "from datetime import datetime\n",
        "from dotenv import load_dotenv\n",
        "\n",
        "\n",
        "# Configurar estilo de gráficos\n",
        "plt.style.use('seaborn-v0_8')\n",
        "sns.set_palette(\"husl\")\n",
        "\n",
        "print(\"✅ Librerías importadas.\")"
      ],
      "metadata": {
        "colab": {
          "base_uri": "https://localhost:8080/"
        },
        "id": "NNWB1wMBvMO5",
        "outputId": "4688b6a9-06be-44d5-f992-55f44673c371"
      },
      "execution_count": 41,
      "outputs": [
        {
          "output_type": "stream",
          "name": "stdout",
          "text": [
            "✅ Librerías importadas.\n"
          ]
        }
      ]
    },
    {
      "cell_type": "markdown",
      "source": [
        "##3. Extraer datos públicos de Youtube"
      ],
      "metadata": {
        "id": "MCVuObjzvjjK"
      }
    },
    {
      "cell_type": "code",
      "source": [
        "from googleapiclient.discovery import build\n",
        "import pandas as pd\n",
        "\n",
        "# ¡IMPORTANTE! Pega aquí tu API Key\n",
        "api_key = \"from google.colab import userdata\n",
        "userdata.get('KeyAPIyoutube')\"\n",
        "\n",
        "# Creamos una instancia para interactuar con la API de YouTube\n",
        "youtube = build('youtube', 'v3', developerKey=api_key)\n",
        "\n",
        "request = youtube.search().list(\n",
        "    q=\"Inteligencia Artificial\",\n",
        "    part=\"snippet\",\n",
        "    type=\"video\",\n",
        "    maxResults=50  # Podemos pedir hasta 50 resultados por página\n",
        ")\n",
        "response = request.execute()\n",
        "\n",
        "# Extraemos los IDs de los videos\n",
        "video_ids = [item['id']['videoId'] for item in response['items']]\n",
        "print(f\"Se encontraron {len(video_ids)} IDs de videos.\")\n",
        "\n",
        "\n",
        "video_stats_request = youtube.videos().list(\n",
        "    part=\"snippet,statistics\",\n",
        "    id=\",\".join(video_ids)\n",
        ")\n",
        "video_stats_response = video_stats_request.execute()\n",
        "\n",
        "# Procesamos y guardamos los datos en una lista\n",
        "video_data = []\n",
        "for item in video_stats_response['items']:\n",
        "    data = {\n",
        "        'Titulo': item['snippet']['title'],\n",
        "        'Vistas': int(item['statistics'].get('viewCount', 0)),\n",
        "        'Me Gusta': int(item['statistics'].get('likeCount', 0)),\n",
        "        'Comentarios': int(item['statistics'].get('commentCount', 0)),\n",
        "        'Canal': item['snippet']['channelTitle']\n",
        "    }\n",
        "    video_data.append(data)\n",
        "\n",
        "# Convertimos la lista en un DataFrame de Pandas para un mejor manejo\n",
        "df = pd.DataFrame(video_data)\n",
        "\n",
        "# Mostramos los primeros 5 resultados\n",
        "print(df.head())\n"
      ],
      "metadata": {
        "colab": {
          "base_uri": "https://localhost:8080/",
          "height": 110
        },
        "id": "dB5Q8w1vszw7",
        "outputId": "36e39e30-8154-4c87-d28e-6ccf2859f574"
      },
      "execution_count": 45,
      "outputs": [
        {
          "output_type": "error",
          "ename": "SyntaxError",
          "evalue": "unterminated string literal (detected at line 5) (ipython-input-4186739464.py, line 5)",
          "traceback": [
            "\u001b[0;36m  File \u001b[0;32m\"/tmp/ipython-input-4186739464.py\"\u001b[0;36m, line \u001b[0;32m5\u001b[0m\n\u001b[0;31m    api_key = \"from google.colab import userdata\u001b[0m\n\u001b[0m              ^\u001b[0m\n\u001b[0;31mSyntaxError\u001b[0m\u001b[0;31m:\u001b[0m unterminated string literal (detected at line 5)\n"
          ]
        }
      ]
    },
    {
      "cell_type": "code",
      "source": [
        "# Paso 3: Extraer videos del canal de @turbofausto\n",
        "print(\"🔍 Extrayendo datos públicos del canal de @turbofausto...\")\n",
        "\n",
        "from sklearn.model_selection import train_test_split\n",
        "from sklearn.ensemble import RandomForestClassifier\n",
        "from sklearn.metrics import accuracy_score\n",
        "\n",
        "# URL de la lista de reproducción \"Videos más recientes\"\n",
        "# ⚠️ Reemplaza con la URL real de la playlist (puedes copiarla de YouTube)\n",
        "PLAYLIST_URL = \"https://www.youtube.com/playlist?list=PLKsLeERYMfn93sYx_IGo0OykPivCzRZMc\"  # Verifica esta URL\n",
        "\n",
        "try:\n",
        "    playlist = Playlist(PLAYLIST_URL)\n",
        "    datos = []\n",
        "\n",
        "    print(f\"📡 Obteniendo {len(playlist.video_urls)} videos...\")\n",
        "\n",
        "    for i, video_url in enumerate(playlist.video_urls[:30]):  # Máximo 30 para no saturar\n",
        "        try:\n",
        "            video = playlist[i]\n",
        "            titulo = video.title\n",
        "            url = video.watch_url\n",
        "            publish_date = video.publish_date\n",
        "            views = video.views\n",
        "            duration = video.length  # en segundos\n",
        "\n",
        "            datos.append({\n",
        "                \"titulo\": titulo,\n",
        "                \"url\": url,\n",
        "                \"fecha\": publish_date.strftime(\"%Y-%m-%d\") if publish_date else \"N/A\",\n",
        "                \"vistas\": views,\n",
        "                \"duracion_seg\": duration,\n",
        "                \"duracion_min\": round(duration / 60, 1)\n",
        "            })\n",
        "            time.sleep(1)  # Etiqueta de respeto\n",
        "        except Exception as e:\n",
        "            print(f\"⚠️ Error en video {i+1}: {e}\")\n",
        "            continue\n",
        "\n",
        "    df = pd.DataFrame(datos)\n",
        "    df.to_csv(\"turbofausto_videos.csv\", index=False)\n",
        "    print(f\"✅ {len(df)} videos extraídos y guardados en 'turbofausto_videos.csv'\")\n",
        "    print(df.head())\n",
        "\n",
        "except Exception as e:\n",
        "    print(f\"❌ Error al extraer datos: {e}\")\n",
        "    print(\"💡 Asegúrate de que la URL de la playlist sea correcta.\")"
      ],
      "metadata": {
        "id": "7pNOQ0bYvkFS"
      },
      "execution_count": null,
      "outputs": []
    },
    {
      "cell_type": "markdown",
      "source": [
        "##4. Análisis de datos y visualización"
      ],
      "metadata": {
        "id": "Z5v50lqfwCiB"
      }
    },
    {
      "cell_type": "code",
      "source": [
        "# Paso 4: Análisis y visualización\n",
        "print(\"\\n📊 Analizando el rendimiento del canal...\")\n",
        "\n",
        "# Create a sample DataFrame for demonstration purposes\n",
        "data = {'titulo': [f'Video {i}' for i in range(20)],\n",
        "        'url': [f'https://www.youtube.com/playlist?list=PLKsLeERYMfn93sYx_IGo0OykPivCzRZMc{i}' for i in range(20)],\n",
        "        'fecha': pd.to_datetime(pd.date_range(start='2023-01-01', periods=20, freq='M').strftime('%Y-%m-%d')),\n",
        "        'vistas': np.random.randint(1000, 100000, 20),\n",
        "        'duracion_seg': np.random.randint(60, 600, 20),\n",
        "        'duracion_min': np.round(np.random.randint(60, 600, 20) / 60, 1)}\n",
        "df = pd.DataFrame(data)\n",
        "print(df.head())\n",
        "\n",
        "# Convertir fecha a datetime\n",
        "df['fecha'] = pd.to_datetime(df['fecha'], errors='coerce')\n",
        "\n",
        "# Gráficos\n",
        "fig, axs = plt.subplots(2, 2, figsize=(14, 10))\n",
        "\n",
        "# 1. Distribución de vistas\n",
        "axs[0, 0].hist(df['vistas'], bins=15, color='skyblue', edgecolor='black')\n",
        "axs[0, 0].set_title('Distribución de Vistas')\n",
        "axs[0, 0].set_xlabel('Vistas')\n",
        "axs[0, 0].set_ylabel('Frecuencia')\n",
        "\n",
        "# 2. Vistas vs Duración\n",
        "axs[0, 1].scatter(df['duracion_min'], df['vistas'], alpha=0.7, color='green')\n",
        "axs[0, 1].set_title('Vistas vs Duración (min)')\n",
        "axs[0, 1].set_xlabel('Duración (min)')\n",
        "axs[0, 1].set_ylabel('Vistas')\n",
        "\n",
        "# 3. Top 10 videos por vistas\n",
        "top10 = df.nlargest(10, 'vistas')\n",
        "axs[1, 0].barh(top10['titulo'], top10['vistas'], color='coral')\n",
        "axs[1, 0].set_title('Top 10 Videos por Vistas')\n",
        "axs[1, 0].set_xlabel('Vistas')\n",
        "\n",
        "# 4. Tendencia de publicaciones por mes\n",
        "df['mes'] = df['fecha'].dt.to_period('M')\n",
        "publicaciones_por_mes = df['mes'].value_counts().sort_index()\n",
        "axs[1, 1].plot(publicaciones_por_mes.index.astype(str), publicaciones_por_mes.values, marker='o', color='purple')\n",
        "axs[1, 1].set_title('Publicaciones por Mes')\n",
        "axs[1, 1].set_xlabel('Mes')\n",
        "axs[1, 1].set_ylabel('Cantidad')\n",
        "plt.xticks(rotation=45)\n",
        "\n",
        "plt.tight_layout()\n",
        "plt.show()"
      ],
      "metadata": {
        "colab": {
          "base_uri": "https://localhost:8080/",
          "height": 1000
        },
        "id": "iT49uXw2v0kK",
        "outputId": "f844766f-6e4f-4502-ad3c-d451b39762a2"
      },
      "execution_count": 39,
      "outputs": [
        {
          "output_type": "stream",
          "name": "stdout",
          "text": [
            "\n",
            "📊 Analizando el rendimiento del canal...\n",
            "    titulo                                                url      fecha  \\\n",
            "0  Video 0  https://www.youtube.com/playlist?list=PLKsLeER... 2023-01-31   \n",
            "1  Video 1  https://www.youtube.com/playlist?list=PLKsLeER... 2023-02-28   \n",
            "2  Video 2  https://www.youtube.com/playlist?list=PLKsLeER... 2023-03-31   \n",
            "3  Video 3  https://www.youtube.com/playlist?list=PLKsLeER... 2023-04-30   \n",
            "4  Video 4  https://www.youtube.com/playlist?list=PLKsLeER... 2023-05-31   \n",
            "\n",
            "   vistas  duracion_seg  duracion_min  \n",
            "0   61792           466           2.2  \n",
            "1   54198           396           4.2  \n",
            "2   95608           266           5.3  \n",
            "3   56802           511           6.4  \n",
            "4   87950           197           2.5  \n"
          ]
        },
        {
          "output_type": "stream",
          "name": "stderr",
          "text": [
            "/tmp/ipython-input-158570533.py:7: FutureWarning: 'M' is deprecated and will be removed in a future version, please use 'ME' instead.\n",
            "  'fecha': pd.to_datetime(pd.date_range(start='2023-01-01', periods=20, freq='M').strftime('%Y-%m-%d')),\n"
          ]
        },
        {
          "output_type": "display_data",
          "data": {
            "text/plain": [
              "<Figure size 1400x1000 with 4 Axes>"
            ],
            "image/png": "[encoded data removed]"
          },
          "metadata": {}
        }
      ]
    },
    {
      "cell_type": "code",
      "source": [
        "from sklearn.model_selection import train_test_split\n",
        "from sklearn.linear_model import LinearRegression\n",
        "from sklearn.metrics import mean_squared_error\n",
        "\n",
        "# Seleccionamos nuestras características y el objetivo\n",
        "X = df[['Vistas', 'Comentarios']]\n",
        "y = df['Me Gusta']\n",
        "\n",
        "# Dividimos los datos en conjuntos de entrenamiento y prueba\n",
        "X_train, X_test, y_train, y_test = train_test_split(X, y, test_size=0.2, random_state=42)\n",
        "\n",
        "# Creamos y entrenamos el modelo\n",
        "modelo = LinearRegression()\n",
        "modelo.fit(X_train, y_train)\n"
      ],
      "metadata": {
        "id": "0PGxgvA5t-G7"
      },
      "execution_count": null,
      "outputs": []
    },
    {
      "cell_type": "markdown",
      "source": [
        "##Evaluación del modelo"
      ],
      "metadata": {
        "id": "PkiTWETLuc46"
      }
    },
    {
      "cell_type": "code",
      "source": [
        "# Hacemos predicciones\n",
        "predicciones = modelo.predict(X_test)\n",
        "\n",
        "# Comparamos las predicciones con los valores reales\n",
        "print(\"Predicción vs. Valor Real\")\n",
        "for i in range(5):\n",
        "    print(f\"Predicción: {int(predicciones[i])}, Valor Real: {y_test.iloc[i]}\")\n",
        "\n",
        "# Calculamos el error\n",
        "error = mean_squared_error(y_test, predicciones)\n",
        "print(f\"\\nError Cuadrático Medio: {error}\")"
      ],
      "metadata": {
        "id": "OXnUMwp8uccD"
      },
      "execution_count": null,
      "outputs": []
    },
    {
      "cell_type": "markdown",
      "source": [
        "##5. Contexto del creador (RAG Básico)"
      ],
      "metadata": {
        "id": "FlrUqaKlxKd6"
      }
    },
    {
      "cell_type": "code",
      "source": [
        "# Paso 5: Contexto del creador (Tuya AgencIA - Cerebro IA)\n",
        "print(\"\\n🧠 Cargando contexto de @turbofausto...\")\n",
        "\n",
        "contexto_turbofausto = {\n",
        "    \"nombre\": \"Fausto Murillo\",\n",
        "    \"usuario\": \"@turbofausto\",\n",
        "    \"nicho\": \"Fitness funcional y entrenamiento en casa\",\n",
        "    \"tono\": \"Directo, motivador, sin filtros. Frases como 'Sin cuentos', 'Esto es real', 'No más excusas'.\",\n",
        "    \"audiencia\": \"Hombres 18-35 que quieren mejorar su físico sin gimnasio.\",\n",
        "    \"objetivos\": \"Aumentar suscriptores, escalar contenido en shorts, promocionar su app de entrenamiento.\",\n",
        "    \"ctas\": [\"Suscríbete\", \"Activa la campanita\", \"Sígueme en Instagram\", \"Descarga mi app\"]\n",
        "}\n",
        "\n",
        "print(f\"✅ Contexto cargado: {contexto_turbofausto['nicho']}\")"
      ],
      "metadata": {
        "id": "djb0YEucxMwp"
      },
      "execution_count": null,
      "outputs": []
    },
    {
      "cell_type": "markdown",
      "source": [
        "##6. Predicción de Impacto con Hugging Face"
      ],
      "metadata": {
        "id": "078Q_oyExS0R"
      }
    },
    {
      "cell_type": "code",
      "source": [
        "# Paso 6: Predicción de impacto con Hugging Face\n",
        "print(\"\\n🤖 Prediciendo impacto de títulos con Hugging Face...\")\n",
        "\n",
        "from transformers import pipeline\n",
        "\n",
        "# Usamos un modelo de sentimiento para predecir engagement\n",
        "classifier = pipeline(\n",
        "    \"sentiment-analysis\",\n",
        "    model=\"cardiffnlp/twitter-roberta-base-sentiment-latest\",\n",
        "    return_all_scores=True\n",
        ")\n",
        "\n",
        "def predecir_impacto(titulo):\n",
        "    resultados = classifier(titulo)\n",
        "    # Find the score for the positive label ('LABEL_2')\n",
        "    positivo_score = 0\n",
        "    for r in resultados[0]: # The classifier returns a list containing one list of dictionaries\n",
        "        if r['label'] == 'LABEL_2':\n",
        "            positivo_score = r['score']\n",
        "            break\n",
        "    return \"ALTO\" if positivo_score > 0.7 else \"BAJO\", positivo_score\n",
        "\n",
        "# Ejemplo con un nuevo título\n",
        "titulo_propuesto = \"ESTO CAMBIA TODO: RUTINA DE 5 MINUTOS EN CASA\"\n",
        "prediccion, confianza = predecir_impacto(titulo_propuesto)\n",
        "\n",
        "print(f\"📌 Título: {titulo_propuesto}\")\n",
        "print(f\"🎯 Predicción de impacto: {prediccion} (Confianza: {confianza:.2f})\")"
      ],
      "metadata": {
        "id": "uGzUvXoLxTk5"
      },
      "execution_count": null,
      "outputs": []
    },
    {
      "cell_type": "markdown",
      "source": [
        "##7. Generar Ideas de Contenido con IA (OpenAI)"
      ],
      "metadata": {
        "id": "06s7UoVFxdEJ"
      }
    },
    {
      "cell_type": "code",
      "source": [
        "# Paso 7: Generar ideas con IA (OpenAI)\n",
        "print(\"\\n💡 Generando ideas de contenido con IA...\")\n",
        "\n",
        "# ⚠️ Necesitas tu API Key de OpenAI\n",
        "from google.colab import userdata\n",
        "import openai\n",
        "\n",
        "try:\n",
        "    # Obtiene tu API key desde Google Colab (Secrets)\n",
        "    openai.api_key = userdata.get('OPENAI_API_KEY')\n",
        "    client = openai.OpenAI(api_key=openai.api_key)\n",
        "\n",
        "    prompt = f\"\"\"\n",
        "    Eres Tuya AgencIA, el cerebro estratégico de {contexto_turbofausto['nombre']}.\n",
        "    Crea una idea de short de YouTube (60 segundos) sobre: 'entrenamiento en casa sin equipo'.\n",
        "\n",
        "    Formato:\n",
        "    - Título (impactante)\n",
        "    - Hook (primeros 3 segundos)\n",
        "    - Desarrollo (45 segundos)\n",
        "    - CTA final ({contexto_turbofausto['ctas'][0]})\n",
        "\n",
        "    Tono: {contexto_turbofausto['tono']}\n",
        "    \"\"\"\n",
        "\n",
        "    response = client.chat.completions.create(\n",
        "        model=\"gpt-3.5-turbo\",\n",
        "        messages=[{\"role\": \"user\", \"content\": prompt}],\n",
        "        max_tokens=300\n",
        "    )\n",
        "\n",
        "    idea = response.choices[0].message.content.strip()\n",
        "    print(\"🎯 Idea generada por IA:\")\n",
        "    print(idea)\n",
        "\n",
        "except Exception as e:\n",
        "    print(f\"❌ Error con OpenAI: {e}\")\n",
        "    print(\"💡 Asegúrate de agregar tu API Key en 'Secrets' como 'OPENAI_API_KEY'\")"
      ],
      "metadata": {
        "id": "xd6ti9oQxd3q"
      },
      "execution_count": null,
      "outputs": []
    },
    {
      "cell_type": "markdown",
      "source": [
        "##8. Guardar Resultados y Conclusión"
      ],
      "metadata": {
        "id": "rugapshlxmIZ"
      }
    },
    {
      "cell_type": "code",
      "source": [
        "# Paso 8: Guardar resultados\n",
        "print(\"\\n Guardando resultados...\")\n",
        "\n",
        "# Añadir idea al CSV\n",
        "df_resultados = df.copy()\n",
        "df_resultados['idea_generada'] = idea.split('\\n')[0]  # Solo el título\n",
        "df_resultados.to_csv(\"turbofausto_resultados.csv\", index=False)\n",
        "\n",
        "# Descargar CSV\n",
        "from google.colab import files\n",
        "files.download(\"turbofausto_resultados.csv\")\n",
        "\n",
        "print(\"✅ Archivo descargado: turbofausto_resultados.csv\")\n",
        "print(\"🎉 ¡Tuya AgencIA ha completado el análisis estratégico!\")\n",
        "print(\"💡 Próximo paso: Automatiza este flujo con Make/Zapier y conviértelo en SaaS.\")"
      ],
      "metadata": {
        "id": "EJrFEM1xxm05"
      },
      "execution_count": null,
      "outputs": []
    },
    {
      "cell_type": "markdown",
      "source": [
        "##8.1 Integración en Google Colab (Código Ejecutable)"
      ],
      "metadata": {
        "id": "AyUOkHVnxtMZ"
      }
    },
    {
      "cell_type": "code",
      "source": [
        "print(\"🧠 Analizando el impacto emocional de los títulos con Hugging Face...\")\n",
        "\n",
        "from transformers import AutoModelForSequenceClassification, AutoTokenizer, pipeline\n",
        "from google.colab import files\n",
        "import pandas as pd\n",
        "\n",
        "# Cargar modelo y tokenizador\n",
        "modelo_sentimiento = \"cardiffnlp/twitter-roberta-base-sentiment-latest\"\n",
        "tokenizer = AutoTokenizer.from_pretrained(modelo_sentimiento)\n",
        "model = AutoModelForSequenceClassification.from_pretrained(modelo_sentimiento)\n",
        "\n",
        "# Crear pipeline\n",
        "classifier = pipeline(\n",
        "    \"sentiment-analysis\",\n",
        "    model=model,\n",
        "    tokenizer=tokenizer,\n",
        "    return_all_scores=True\n",
        ")\n",
        "\n",
        "# Función para analizar un título\n",
        "def analizar_impacto(titulo):\n",
        "    resultados = classifier(titulo)\n",
        "    score_positivo = 0\n",
        "    # Iterate through the list of dictionaries to find the score for 'LABEL_2'\n",
        "    for r in resultados[0]:\n",
        "        if r['label'] == 'LABEL_2':\n",
        "            score_positivo = r['score']\n",
        "            break\n",
        "    return \"ALTO\" if score_positivo > 0.7 else \"BAJO\", score_positivo\n",
        "\n",
        "# Analizar títulos del canal\n",
        "print(\"\\n📊 Análisis de impacto emocional de los títulos:\")\n",
        "impactos = []\n",
        "for titulo in df['titulo'][:10]:  # Solo los primeros 10\n",
        "    prediccion, confianza = analizar_impacto(titulo)\n",
        "    impactos.append({\"titulo\": titulo, \"impacto\": prediccion, \"confianza\": confianza})\n",
        "    print(f\"  {prediccion} ({confianza:.2f}): {titulo[:60]}...\")\n",
        "\n",
        "# Guardar resultados\n",
        "df_impacto = pd.DataFrame(impactos)\n",
        "df_impacto.to_csv(\"analisis_impacto_titulos.csv\", index=False)\n",
        "files.download(\"analisis_impacto_titulos.csv\")"
      ],
      "metadata": {
        "id": "UU5d5tdPxt45"
      },
      "execution_count": null,
      "outputs": []
    }
  ]
}