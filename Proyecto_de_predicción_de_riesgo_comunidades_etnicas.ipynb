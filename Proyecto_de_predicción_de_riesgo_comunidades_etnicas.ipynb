{
  "nbformat": 4,
  "nbformat_minor": 0,
  "metadata": {
    "colab": {
      "provenance": [],
      "authorship_tag": "ABX9TyPbmN1Hd3kNlHdG3x2RLvA0",
      "include_colab_link": true
    },
    "kernelspec": {
      "name": "python3",
      "display_name": "Python 3"
    },
    "language_info": {
      "name": "python"
    }
  },
  "cells": [
    {
      "cell_type": "markdown",
      "metadata": {
        "id": "view-in-github",
        "colab_type": "text"
      },
      "source": [
        "<a href=\"https://colab.research.google.com/github/Lumpenvisual/Algoritmo_de_clasificaci-n/blob/main/Proyecto_de_predicci%C3%B3n_de_riesgo_comunidades_etnicas.ipynb\" target=\"_parent\"><img src=\"https://colab.research.google.com/assets/colab-badge.svg\" alt=\"Open In Colab\"/></a>"
      ]
    },
    {
      "cell_type": "markdown",
      "source": [
        "# proyecto: Análisis y predicción de necesidades para comunidades étnicas en Colombia\n",
        "\n",
        "##Algoritmos: clasificación y regresión\n",
        "\n",
        "#Objetivo\n",
        "Utilizar algoritmos de machine learning para identificar y predecir los riesgos y necesidades de las comunidades étnicas en Colombia, basándose en datos abiertos. El objetivo final es generar información valiosa para la toma de decisiones por parte de organizaciones y entes gubernamentales.\n",
        "\n",
        "\n",
        "#**Paso 1:** Recopilación y preparación de datos\n",
        "Necesitamos datos que nos permitan trabajar con los dos tipos de algoritmos que hemos visto. Usaremos las bases de datos que priorizamos en la conversación anterior.\n",
        "\n",
        "* Fuentes de datos: DANE, Ministerio del Interior, Unidad de Víctimas, IGAC, etc.\n",
        "\n",
        "**Variables clave:**\n",
        "\n",
        "Variables de entrada (características): Nivel de educación, acceso a servicios de salud, ubicación geográfica, disponibilidad de agua potable, indicadores económicos, tipo de comunidad (indígena, afrocolombiana, etc.), tasas de desempleo, etc.\n",
        "\n",
        "**Variables de salida (etiquetas):**\n",
        "\n",
        "* Clasificación: Riesgo de vulnerabilidad (alto, medio, bajo).\n",
        "\n",
        "* Regresión: Número de años promedio de escolaridad en una comunidad o el índice de pobreza.\n",
        "\n",
        "\n",
        "#**Paso 2:** Aplicación del algoritmo de clasificación\n",
        "Usaremos un algoritmo de clasificación para identificar el riesgo de vulnerabilidad de una comunidad.\n",
        "\n",
        "**Problema:** Predecir si una comunidad tiene un riesgo alto, medio o bajo de vulnerabilidad.\n",
        "\n",
        "**Algoritmo a usar:** Random Forest Classifier (RandomForestClassifier de Scikit-learn). Es un algoritmo robusto, ideal para clasificación de múltiples características.\n",
        "\n",
        "#**Paso 3:** Aplicación del algoritmo de regresión\n",
        "Utilizaremos un algoritmo de regresión para predecir un valor numérico, como el número de años promedio de escolaridad.\n",
        "\n",
        "**Problema:** Predecir el número promedio de años de escolaridad en una comunidad basándose en sus características.\n",
        "\n",
        "**Algoritmo a usar:** Linear Regression (LinearRegression de Scikit-learn).\n",
        "Utilizaremos este algoritmo para entender la relación entre nuestras variables. Nos dirá si existe una relación lineal entre variables como la inversión en educación y los años de escolaridad.\n",
        "\n",
        "#**Paso 4:** Interpretación y visualización\n",
        "\n",
        "**Mapa de riesgo:**  Utilizar los resultados del modelo de clasificación para crear un mapa interactivo de Colombia que muestre las zonas con mayor riesgo de vulnerabilidad.\n",
        "\n",
        "**Gráficos de factores clave:** Generar gráficos de barras o de dispersión que muestren qué variables tienen mayor impacto en los años de escolaridad o en el riesgo de vulnerabilidad. Por ejemplo, podríamos ver que la falta de acceso a internet es un factor clave en la baja escolaridad.\n"
      ],
      "metadata": {
        "id": "lDlUkjX-JbLd"
      }
    },
    {
      "cell_type": "code",
      "execution_count": null,
      "metadata": {
        "colab": {
          "base_uri": "https://localhost:8080/"
        },
        "id": "4HyQmnfLJA80",
        "outputId": "2182aec9-9b28-4d31-c1b9-b1e0563ce966"
      },
      "outputs": [
        {
          "output_type": "stream",
          "name": "stdout",
          "text": [
            "   educacion  acceso_salud  agua_potable  desempleo  inversion_educativa  \\\n",
            "0   3.745401      0.698162      0.185133   0.231679          1308.528419   \n",
            "1   9.507143      0.536096      0.541901   0.217714          1234.893995   \n",
            "2   7.319939      0.309528      0.872946   0.058975          4531.272903   \n",
            "3   5.986585      0.813795      0.732225   0.169437          1247.730999   \n",
            "4   1.560186      0.684731      0.806561   0.183068          1359.748631   \n",
            "\n",
            "  riesgo_vulnerabilidad  años_escolaridad_promedio  \n",
            "0                 Medio                   7.968875  \n",
            "1                 Medio                  16.786040  \n",
            "2                 Medio                  16.622391  \n",
            "3                  Bajo                  10.406770  \n",
            "4                  Bajo                   3.305351  \n"
          ]
        }
      ],
      "source": [
        "import pandas as pd\n",
        "import numpy as np\n",
        "from sklearn.model_selection import train_test_split\n",
        "from sklearn.ensemble import RandomForestClassifier\n",
        "from sklearn.linear_model import LinearRegression\n",
        "from sklearn.metrics import accuracy_score, confusion_matrix, mean_squared_error, ConfusionMatrixDisplay\n",
        "import matplotlib.pyplot as plt\n",
        "\n",
        "# Generamos datos ficticios para 500 comunidades\n",
        "np.random.seed(42)\n",
        "data = {\n",
        "    'educacion': np.random.uniform(0, 10, 500), # Años de escolaridad promedio\n",
        "    'acceso_salud': np.random.uniform(0, 1, 500), # Proporción de la población con acceso a salud\n",
        "    'agua_potable': np.random.uniform(0, 1, 500), # Proporción de la población con acceso a agua potable\n",
        "    'desempleo': np.random.uniform(0.05, 0.4, 500), # Tasa de desempleo\n",
        "    'inversion_educativa': np.random.uniform(0, 5000, 500) # Inversión per cápita en educación (miles de pesos)\n",
        "    }\n",
        "\n",
        "df = pd.DataFrame(data)\n",
        "\n",
        "# Creamos una columna para el riesgo de vulnerabilidad (clasificación)\n",
        "# Si el desempleo es alto y el acceso a servicios es bajo, el riesgo es alto.\n",
        "def asignar_riesgo(row):\n",
        "    if row['desempleo'] > 0.3 and row['acceso_salud'] < 0.4:\n",
        "        return 'Alto'\n",
        "    elif row['desempleo'] > 0.2 or row['acceso_salud'] < 0.6:\n",
        "        return 'Medio'\n",
        "    else:\n",
        "        return 'Bajo'\n",
        "\n",
        "df['riesgo_vulnerabilidad'] = df.apply(asignar_riesgo, axis=1)\n",
        "\n",
        "# Creamos una columna para los años de escolaridad promedio (regresión)\n",
        "# La escolaridad se relaciona positivamente con la inversión educativa y el acceso a servicios.\n",
        "df['años_escolaridad_promedio'] = df['educacion'] * 1.5 + (df['inversion_educativa'] / 1000) + np.random.normal(0, 2, 500)\n",
        "df['años_escolaridad_promedio'] = df['años_escolaridad_promedio'].clip(0, 20)\n",
        "\n",
        "print(df.head())"
      ]
    },
    {
      "cell_type": "markdown",
      "source": [],
      "metadata": {
        "id": "pMcuAUExJYnw"
      }
    },
    {
      "cell_type": "code",
      "metadata": {
        "colab": {
          "base_uri": "https://localhost:8080/"
        },
        "id": "eb544101",
        "outputId": "b84088df-7d5c-461e-cbb1-1e216bf0c12c"
      },
      "source": [
        "# Prepare data for classification\n",
        "X_clf = df[['educacion', 'acceso_salud', 'agua_potable', 'desempleo', 'inversion_educativa']]\n",
        "y_clf = df['riesgo_vulnerabilidad']\n",
        "\n",
        "# Split data for classification\n",
        "X_train_clf, X_test_clf, y_train_clf, y_test_clf = train_test_split(X_clf, y_clf, test_size=0.2, random_state=42, stratify=y_clf)\n",
        "\n",
        "# Prepare data for regression\n",
        "X_reg = df[['educacion', 'acceso_salud', 'agua_potable', 'desempleo', 'inversion_educativa']]\n",
        "y_reg = df['años_escolaridad_promedio']\n",
        "\n",
        "# Split data for regression\n",
        "X_train_reg, X_test_reg, y_train_reg, y_test_reg = train_test_split(X_reg, y_reg, test_size=0.2, random_state=42)\n",
        "\n",
        "print(\"Classification data shapes:\")\n",
        "print(f\"X_train_clf: {X_train_clf.shape}, y_train_clf: {y_train_clf.shape}\")\n",
        "print(f\"X_test_clf: {X_test_clf.shape}, y_test_clf: {y_test_clf.shape}\")\n",
        "\n",
        "print(\"\\nRegression data shapes:\")\n",
        "print(f\"X_train_reg: {X_train_reg.shape}, y_train_reg: {y_train_reg.shape}\")\n",
        "print(f\"X_test_reg: {X_test_reg.shape}, y_test_reg: {y_test_reg.shape}\")"
      ],
      "execution_count": null,
      "outputs": [
        {
          "output_type": "stream",
          "name": "stdout",
          "text": [
            "Classification data shapes:\n",
            "X_train_clf: (400, 5), y_train_clf: (400,)\n",
            "X_test_clf: (100, 5), y_test_clf: (100,)\n",
            "\n",
            "Regression data shapes:\n",
            "X_train_reg: (400, 5), y_train_reg: (400,)\n",
            "X_test_reg: (100, 5), y_test_reg: (100,)\n"
          ]
        }
      ]
    },
    {
      "cell_type": "code",
      "source": [
        "#Algoritmo de clasificación: Predicción del riesgo\n",
        "# Definir las características (X) y la etiqueta (y) para clasificación\n",
        "X_clas = df[['educacion', 'acceso_salud', 'agua_potable', 'desempleo']]\n",
        "y_clas = df['riesgo_vulnerabilidad']\n",
        "\n",
        "# Dividir datos en conjuntos de entrenamiento y prueba\n",
        "X_train_clas, X_test_clas, y_train_clas, y_test_clas = train_test_split(X_clas, y_clas, test_size=0.3, random_state=42)\n",
        "\n",
        "# Entrenar el modelo de RandomForest\n",
        "model_clasificacion = RandomForestClassifier(n_estimators=100)\n",
        "model_clasificacion.fit(X_train_clas, y_train_clas)\n",
        "\n",
        "# Evaluar el modelo\n",
        "y_pred_clas = model_clasificacion.predict(X_test_clas)\n",
        "print(\"\\n--- Resultados del modelo de Clasificación ---\")\n",
        "print(f\"Precisión: {accuracy_score(y_test_clas, y_pred_clas):.2%}\")\n",
        "\n",
        "# Visualizar la matriz de confusión\n",
        "cm_clas = confusion_matrix(y_test_clas, y_pred_clas)\n",
        "disp_clas = ConfusionMatrixDisplay(confusion_matrix=cm_clas, display_labels=model_clasificacion.classes_)\n",
        "disp_clas.plot(cmap=plt.cm.Blues)\n",
        "plt.title('Matriz de Confusión - Riesgo de Vulnerabilidad')\n",
        "plt.show()\n"
      ],
      "metadata": {
        "colab": {
          "base_uri": "https://localhost:8080/",
          "height": 524
        },
        "id": "brhEySPcO7Sj",
        "outputId": "949f53b3-bff5-4df0-8b5f-e1e2f57c7e29"
      },
      "execution_count": null,
      "outputs": [
        {
          "output_type": "stream",
          "name": "stdout",
          "text": [
            "\n",
            "--- Resultados del modelo de Clasificación ---\n",
            "Precisión: 96.00%\n"
          ]
        },
        {
          "output_type": "display_data",
          "data": {
            "text/plain": [
              "<Figure size 640x480 with 2 Axes>"
            ],
            "image/png": "[encoded data removed]"
          },
          "metadata": {}
        }
      ]
    },
    {
      "cell_type": "code",
      "source": [
        "#Algoritmo de regresión: Predicción de años de escolaridad\n",
        "# Definir las características (X) y la etiqueta (y) para regresión\n",
        "X_reg = df[['inversion_educativa', 'acceso_salud', 'agua_potable']]\n",
        "y_reg = df['años_escolaridad_promedio']\n",
        "\n",
        "# Dividir datos en conjuntos de entrenamiento y prueba\n",
        "X_train_reg, X_test_reg, y_train_reg, y_test_reg = train_test_split(X_reg, y_reg, test_size=0.3, random_state=42)\n",
        "\n",
        "# Entrenar el modelo de Regresión Lineal\n",
        "model_regresion = LinearRegression()\n",
        "model_regresion.fit(X_train_reg, y_train_reg)\n",
        "\n",
        "# Evaluar el modelo\n",
        "y_pred_reg = model_regresion.predict(X_test_reg)\n",
        "print(\"\\n--- Resultados del modelo de Regresión ---\")\n",
        "print(f\"Error cuadrático medio: {mean_squared_error(y_test_reg, y_pred_reg):.2f}\")\n",
        "print(f\"Puntuación R-cuadrado: {model_regresion.score(X_test_reg, y_test_reg):.2f}\")\n",
        "\n"
      ],
      "metadata": {
        "colab": {
          "base_uri": "https://localhost:8080/"
        },
        "id": "efpx0BBUPNSq",
        "outputId": "26ba0eb1-6156-4a11-9a63-76ccdb37c400"
      },
      "execution_count": null,
      "outputs": [
        {
          "output_type": "stream",
          "name": "stdout",
          "text": [
            "\n",
            "--- Resultados del modelo de Regresión ---\n",
            "Error cuadrático medio: 23.59\n",
            "Puntuación R-cuadrado: 0.07\n"
          ]
        }
      ]
    }
  ]
}